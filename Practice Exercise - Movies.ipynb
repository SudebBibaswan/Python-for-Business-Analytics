{
 "cells": [
  {
   "cell_type": "markdown",
   "metadata": {},
   "source": [
    "# Practice Exercise - Movies"
   ]
  },
  {
   "cell_type": "markdown",
   "metadata": {},
   "source": [
    "In this assignment, you will try to find some interesting insights into a few movies released between 1916 and 2016, using Python. You will have to download a movie dataset, write Python code to explore the data, gain insights into the movies, actors, directors, and collections, and submit the code."
   ]
  },
  {
   "cell_type": "markdown",
   "metadata": {},
   "source": [
    "#### Some tips before starting the assignment\n",
    "\n",
    "1. Identify the task to be performed correctly, and only then proceed to write the required code. Don’t perform any incorrect analysis or look for information that isn’t required for the assignment.\n",
    "2. In some cases, the variable names have already been assigned, and you just need to write code against them. In other cases, the names to be given are mentioned in the instructions. We strongly advise you to use the mentioned names only.\n",
    "3. Always keep inspecting your data frame after you have performed a particular set of operations.\n",
    "4. There are some checkpoints given in the IPython notebook provided. They're just useful pieces of information you can use to check if the result you have obtained after performing a particular task is correct or not.\n",
    "5. Note that you will be asked to refer to documentation for solving some of the questions. That is done on purpose for you to learn new commands and also how to use the documentation."
   ]
  },
  {
   "cell_type": "code",
   "execution_count": 2,
   "metadata": {},
   "outputs": [],
   "source": [
    "# import libraries\n",
    "import numpy as np\n",
    "import pandas as pd"
   ]
  },
  {
   "cell_type": "markdown",
   "metadata": {},
   "source": [
    "### Task 1: Reading and Inspection\n",
    "\n",
    "**Subtask 1.1: Import and read**\n",
    "\n",
    "Import and read the movie database. Store it in a variable called `movies`."
   ]
  },
  {
   "cell_type": "code",
   "execution_count": 3,
   "metadata": {},
   "outputs": [],
   "source": [
    "# read the \"movies\" csv file\n",
    "movies = pd.read_csv(\"movies.csv\")"
   ]
  },
  {
   "cell_type": "markdown",
   "metadata": {},
   "source": [
    "**Subtask 1.2: Inspect the dataframe**\n",
    "\n",
    "Inspect the dataframe's columns, shapes, variable types etc."
   ]
  },
  {
   "cell_type": "code",
   "execution_count": 11,
   "metadata": {},
   "outputs": [
    {
     "name": "stdout",
     "output_type": "stream",
     "text": [
      "      color      director_name  num_critic_for_reviews  duration  \\\n",
      "0     Color      James Cameron                   723.0     178.0   \n",
      "1     Color     Gore Verbinski                   302.0     169.0   \n",
      "2     Color         Sam Mendes                   602.0     148.0   \n",
      "3     Color  Christopher Nolan                   813.0     164.0   \n",
      "4     Color     Andrew Stanton                   462.0     132.0   \n",
      "...     ...                ...                     ...       ...   \n",
      "3848  Color      Shane Carruth                   143.0      77.0   \n",
      "3849  Color   Neill Dela Llana                    35.0      80.0   \n",
      "3850  Color   Robert Rodriguez                    56.0      81.0   \n",
      "3851  Color       Edward Burns                    14.0      95.0   \n",
      "3852  Color           Jon Gunn                    43.0      90.0   \n",
      "\n",
      "      director_facebook_likes  actor_3_facebook_likes        actor_2_name  \\\n",
      "0                         0.0                   855.0    Joel David Moore   \n",
      "1                       563.0                  1000.0       Orlando Bloom   \n",
      "2                         0.0                   161.0        Rory Kinnear   \n",
      "3                     22000.0                 23000.0      Christian Bale   \n",
      "4                       475.0                   530.0     Samantha Morton   \n",
      "...                       ...                     ...                 ...   \n",
      "3848                    291.0                     8.0      David Sullivan   \n",
      "3849                      0.0                     0.0     Edgar Tancangco   \n",
      "3850                      0.0                     6.0     Peter Marquardt   \n",
      "3851                      0.0                   133.0  Caitlin FitzGerald   \n",
      "3852                     16.0                    16.0    Brian Herzlinger   \n",
      "\n",
      "      actor_1_facebook_likes        gross  \\\n",
      "0                     1000.0  760505847.0   \n",
      "1                    40000.0  309404152.0   \n",
      "2                    11000.0  200074175.0   \n",
      "3                    27000.0  448130642.0   \n",
      "4                      640.0   73058679.0   \n",
      "...                      ...          ...   \n",
      "3848                   291.0     424760.0   \n",
      "3849                     0.0      70071.0   \n",
      "3850                   121.0    2040920.0   \n",
      "3851                   296.0       4584.0   \n",
      "3852                    86.0      85222.0   \n",
      "\n",
      "                                   genres  ... num_user_for_reviews language  \\\n",
      "0         Action|Adventure|Fantasy|Sci-Fi  ...               3054.0  English   \n",
      "1                Action|Adventure|Fantasy  ...               1238.0  English   \n",
      "2               Action|Adventure|Thriller  ...                994.0  English   \n",
      "3                         Action|Thriller  ...               2701.0  English   \n",
      "4                 Action|Adventure|Sci-Fi  ...                738.0  English   \n",
      "...                                   ...  ...                  ...      ...   \n",
      "3848                Drama|Sci-Fi|Thriller  ...                371.0  English   \n",
      "3849                             Thriller  ...                 35.0  English   \n",
      "3850  Action|Crime|Drama|Romance|Thriller  ...                130.0  Spanish   \n",
      "3851                         Comedy|Drama  ...                 14.0  English   \n",
      "3852                          Documentary  ...                 84.0  English   \n",
      "\n",
      "          country  content_rating       budget  title_year  \\\n",
      "0             USA           PG-13  237000000.0      2009.0   \n",
      "1             USA           PG-13  300000000.0      2007.0   \n",
      "2              UK           PG-13  245000000.0      2015.0   \n",
      "3             USA           PG-13  250000000.0      2012.0   \n",
      "4             USA           PG-13  263700000.0      2012.0   \n",
      "...           ...             ...          ...         ...   \n",
      "3848          USA           PG-13       7000.0      2004.0   \n",
      "3849  Philippines       Not Rated       7000.0      2005.0   \n",
      "3850          USA               R       7000.0      1992.0   \n",
      "3851          USA       Not Rated       9000.0      2011.0   \n",
      "3852          USA              PG       1100.0      2004.0   \n",
      "\n",
      "     actor_2_facebook_likes imdb_score  aspect_ratio movie_facebook_likes  \n",
      "0                     936.0        7.9          1.78                33000  \n",
      "1                    5000.0        7.1          2.35                    0  \n",
      "2                     393.0        6.8          2.35                85000  \n",
      "3                   23000.0        8.5          2.35               164000  \n",
      "4                     632.0        6.6          2.35                24000  \n",
      "...                     ...        ...           ...                  ...  \n",
      "3848                   45.0        7.0          1.85                19000  \n",
      "3849                    0.0        6.3           NaN                   74  \n",
      "3850                   20.0        6.9          1.37                    0  \n",
      "3851                  205.0        6.4           NaN                  413  \n",
      "3852                   23.0        6.6          1.85                  456  \n",
      "\n",
      "[3853 rows x 28 columns]\n",
      "Number of Rows:  3853\n",
      "Number of Columns:  28\n",
      "12\n"
     ]
    }
   ],
   "source": [
    "df = pd.DataFrame(movies, index=None)\n",
    " \n",
    "# computing number of rows\n",
    "rows = len(df.axes[0])\n",
    " \n",
    "# computing number of columns\n",
    "cols = len(df.axes[1])\n",
    " \n",
    "print(df)\n",
    "print(\"Number of Rows: \", rows)\n",
    "print(\"Number of Columns: \", cols)\n",
    "print((movies.isnull().sum()>0).sum())"
   ]
  },
  {
   "cell_type": "markdown",
   "metadata": {},
   "source": [
    "#### <font color='red'>Question 1: How many rows and columns are present in the dataframe? </font>\n",
    "-  <font color='red'>(3821, 26)</font>\n",
    "-  <font color='red'>(3879, 28)</font>\n",
    "-  <font color='red'>(3853, 28)</font>\n",
    "-  <font color='red'>(3866, 26)</font>"
   ]
  },
  {
   "cell_type": "markdown",
   "metadata": {},
   "source": [
    "#### <font color='red'>Question 2: How many columns have null values present in them? Try writing a code for this instead of counting them manually.</font>\n",
    "\n",
    "-  <font color='red'>3</font>\n",
    "-  <font color='red'>6</font>\n",
    "-  <font color='red'>9</font>\n",
    "-  <font color='red'>12</font>"
   ]
  },
  {
   "cell_type": "markdown",
   "metadata": {},
   "source": [
    "### Task 2: Cleaning the Data\n",
    "\n",
    "**Subtask 2.1: Drop unecessary columns**\n",
    "\n",
    "For this assignment, you will mostly be analyzing the movies with respect to the ratings, gross collection, popularity of movies, etc. So many of the columns in this dataframe are not required. So it is advised to drop the following columns.\n",
    "-  color\n",
    "-  director_facebook_likes\n",
    "-  actor_1_facebook_likes\n",
    "-  actor_2_facebook_likes\n",
    "-  actor_3_facebook_likes\n",
    "-  actor_2_name\n",
    "-  cast_total_facebook_likes\n",
    "-  actor_3_name\n",
    "-  duration\n",
    "-  facenumber_in_poster\n",
    "-  content_rating\n",
    "-  country\n",
    "-  movie_imdb_link\n",
    "-  aspect_ratio\n",
    "-  plot_keywords"
   ]
  },
  {
   "cell_type": "code",
   "execution_count": 12,
   "metadata": {},
   "outputs": [
    {
     "data": {
      "text/plain": [
       "color                        0.05\n",
       "director_name                0.00\n",
       "num_critic_for_reviews       0.03\n",
       "duration                     0.03\n",
       "director_facebook_likes      0.00\n",
       "actor_3_facebook_likes       0.16\n",
       "actor_2_name                 0.03\n",
       "actor_1_facebook_likes       0.00\n",
       "gross                        0.00\n",
       "genres                       0.00\n",
       "actor_1_name                 0.00\n",
       "movie_title                  0.00\n",
       "num_voted_users              0.00\n",
       "cast_total_facebook_likes    0.00\n",
       "actor_3_name                 0.16\n",
       "facenumber_in_poster         0.16\n",
       "plot_keywords                0.78\n",
       "movie_imdb_link              0.00\n",
       "num_user_for_reviews         0.00\n",
       "language                     0.10\n",
       "country                      0.00\n",
       "content_rating               1.25\n",
       "budget                       0.00\n",
       "title_year                   0.00\n",
       "actor_2_facebook_likes       0.03\n",
       "imdb_score                   0.00\n",
       "aspect_ratio                 1.87\n",
       "movie_facebook_likes         0.00\n",
       "dtype: float64"
      ]
     },
     "execution_count": 12,
     "metadata": {},
     "output_type": "execute_result"
    }
   ],
   "source": [
    "round(100*(movies.isnull().sum()/len(movies.index)),2)"
   ]
  },
  {
   "cell_type": "markdown",
   "metadata": {},
   "source": [
    "#### <font color='red'>Question 3: What is the count of columns in the new dataframe? </font>\n",
    "-  <font color='red'>10</font>\n",
    "-  <font color='red'>13</font>\n",
    "-  <font color='red'>15</font>\n",
    "-  <font color='red'>17</font>"
   ]
  },
  {
   "cell_type": "markdown",
   "metadata": {},
   "source": [
    "**Subtask 2.2: Inspect Null values**\n",
    "\n",
    "As you have seen above, there are null values in multiple columns of the dataframe 'movies'. Find out the percentage of null values in each column of the dataframe 'movies'. "
   ]
  },
  {
   "cell_type": "code",
   "execution_count": 13,
   "metadata": {},
   "outputs": [
    {
     "data": {
      "text/plain": [
       "3675"
      ]
     },
     "execution_count": 13,
     "metadata": {},
     "output_type": "execute_result"
    }
   ],
   "source": [
    "movies.loc[pd.isnull(movies['language']), ['language']] = 'English'\n",
    "(movies.language == 'English').sum()"
   ]
  },
  {
   "cell_type": "markdown",
   "metadata": {},
   "source": [
    "#### <font color='red'>Question 4: Which column has the highest percentage of null values? </font>\n",
    "-  <font color='red'>language</font>\n",
    "-  <font color='red'>genres</font>\n",
    "-  <font color='red'>num_critic_for_reviews</font>\n",
    "-  <font color='red'>imdb_score</font>"
   ]
  },
  {
   "cell_type": "markdown",
   "metadata": {},
   "source": [
    "**Subtask 2.3: Fill NaN values**\n",
    "\n",
    "You might notice that the `language` column has some NaN values. Here, on inspection, you will see that it is safe to replace all the missing values with `'English'`."
   ]
  },
  {
   "cell_type": "code",
   "execution_count": 15,
   "metadata": {},
   "outputs": [
    {
     "name": "stdout",
     "output_type": "stream",
     "text": [
      "      color      director_name  num_critic_for_reviews  duration  \\\n",
      "0     Color      James Cameron                   723.0     178.0   \n",
      "28    Color    Colin Trevorrow                   644.0     124.0   \n",
      "25    Color      James Cameron                   315.0     194.0   \n",
      "2704  Color       George Lucas                   282.0     125.0   \n",
      "2748  Color   Steven Spielberg                   215.0     120.0   \n",
      "16    Color        Joss Whedon                   703.0     173.0   \n",
      "482   Color       Roger Allers                   186.0      73.0   \n",
      "230   Color       George Lucas                   320.0     136.0   \n",
      "64    Color  Christopher Nolan                   645.0     152.0   \n",
      "419   Color          Gary Ross                   673.0     142.0   \n",
      "\n",
      "      director_facebook_likes  actor_3_facebook_likes       actor_2_name  \\\n",
      "0                         0.0                   855.0   Joel David Moore   \n",
      "28                      365.0                  1000.0         Judy Greer   \n",
      "25                        0.0                   794.0       Kate Winslet   \n",
      "2704                      0.0                   504.0      Peter Cushing   \n",
      "2748                  14000.0                   548.0        Dee Wallace   \n",
      "16                        0.0                 19000.0  Robert Downey Jr.   \n",
      "482                      28.0                   847.0        Nathan Lane   \n",
      "230                       0.0                  1000.0        Liam Neeson   \n",
      "64                    22000.0                 11000.0       Heath Ledger   \n",
      "419                     378.0                   575.0    Josh Hutcherson   \n",
      "\n",
      "      actor_1_facebook_likes        gross  \\\n",
      "0                     1000.0  760505847.0   \n",
      "28                    3000.0  652177271.0   \n",
      "25                   29000.0  658672302.0   \n",
      "2704                 11000.0  460935665.0   \n",
      "2748                   861.0  434949459.0   \n",
      "16                   26000.0  623279547.0   \n",
      "482                   2000.0  422783777.0   \n",
      "230                  20000.0  474544677.0   \n",
      "64                   23000.0  533316061.0   \n",
      "419                  34000.0  407999255.0   \n",
      "\n",
      "                                        genres  ... language country  \\\n",
      "0              Action|Adventure|Fantasy|Sci-Fi  ...  English     USA   \n",
      "28            Action|Adventure|Sci-Fi|Thriller  ...  English     USA   \n",
      "25                               Drama|Romance  ...  English     USA   \n",
      "2704           Action|Adventure|Fantasy|Sci-Fi  ...  English     USA   \n",
      "2748                             Family|Sci-Fi  ...  English     USA   \n",
      "16                     Action|Adventure|Sci-Fi  ...  English     USA   \n",
      "482   Adventure|Animation|Drama|Family|Musical  ...  English     USA   \n",
      "230            Action|Adventure|Fantasy|Sci-Fi  ...  English     USA   \n",
      "64                 Action|Crime|Drama|Thriller  ...  English     USA   \n",
      "419            Adventure|Drama|Sci-Fi|Thriller  ...  English     USA   \n",
      "\n",
      "      content_rating       budget title_year  actor_2_facebook_likes  \\\n",
      "0              PG-13  237000000.0     2009.0                   936.0   \n",
      "28             PG-13  150000000.0     2015.0                  2000.0   \n",
      "25             PG-13  200000000.0     1997.0                 14000.0   \n",
      "2704              PG   11000000.0     1977.0                  1000.0   \n",
      "2748              PG   10500000.0     1982.0                   725.0   \n",
      "16             PG-13  220000000.0     2012.0                 21000.0   \n",
      "482                G   45000000.0     1994.0                   886.0   \n",
      "230               PG  115000000.0     1999.0                 14000.0   \n",
      "64             PG-13  185000000.0     2008.0                 13000.0   \n",
      "419            PG-13   78000000.0     2012.0                 14000.0   \n",
      "\n",
      "     imdb_score aspect_ratio  movie_facebook_likes       profit  \n",
      "0           7.9         1.78                 33000  523505847.0  \n",
      "28          7.0         2.00                150000  502177271.0  \n",
      "25          7.7         2.35                 26000  458672302.0  \n",
      "2704        8.7         2.35                 33000  449935665.0  \n",
      "2748        7.9         1.85                 34000  424449459.0  \n",
      "16          8.1         1.85                123000  403279547.0  \n",
      "482         8.5         1.66                 17000  377783777.0  \n",
      "230         6.5         2.35                 13000  359544677.0  \n",
      "64          9.0         2.35                 37000  348316061.0  \n",
      "419         7.3         2.35                140000  329999255.0  \n",
      "\n",
      "[10 rows x 29 columns]\n"
     ]
    }
   ],
   "source": [
    "movies['profit']=movies['gross']-movies['budget']\n",
    "top_10=movies.sort_values(by='profit',ascending=False).head(10)\n",
    "print(top_10)"
   ]
  },
  {
   "cell_type": "markdown",
   "metadata": {},
   "source": [
    "#### <font color='red'>Question 5: What is the count of movies made in English language after replacing the NaN values with English? </font>\n",
    "-  <font color='red'>3670</font>\n",
    "-  <font color='red'>3674</font>\n",
    "-  <font color='red'>3668</font>\n",
    "-  <font color='red'>3672</font>"
   ]
  },
  {
   "cell_type": "markdown",
   "metadata": {},
   "source": [
    "### Task 3: Data Analysis\n",
    "\n",
    "**Subtask 3.1: Change the unit of columns**\n",
    "\n",
    "Convert the unit of the `budget` and `gross` columns from `$` to `million $`."
   ]
  },
  {
   "cell_type": "code",
   "execution_count": null,
   "metadata": {},
   "outputs": [],
   "source": []
  },
  {
   "cell_type": "markdown",
   "metadata": {},
   "source": [
    "**Subtask 3.2: Find the movies with highest profit**\n",
    "\n",
    "   1. Create a new column called `profit` which contains the difference of the two columns: `gross` and `budget`.\n",
    "   2. Sort the dataframe using the `profit` column as reference. (Find which command can be used here to sort entries from the documentation)\n",
    "   3. Extract the top ten profiting movies in descending order and store them in a new dataframe - `top10`"
   ]
  },
  {
   "cell_type": "code",
   "execution_count": null,
   "metadata": {},
   "outputs": [],
   "source": [
    "\n"
   ]
  },
  {
   "cell_type": "code",
   "execution_count": null,
   "metadata": {},
   "outputs": [],
   "source": [
    "\n"
   ]
  },
  {
   "cell_type": "code",
   "execution_count": null,
   "metadata": {},
   "outputs": [],
   "source": []
  },
  {
   "cell_type": "markdown",
   "metadata": {},
   "source": [
    "**Checkpoint:** You might spot two movies directed by `James Cameron` in the list."
   ]
  },
  {
   "cell_type": "markdown",
   "metadata": {},
   "source": [
    "#### <font color='red'>Question 6: Which movie is ranked 5th from the top in the list obtained? </font>\n",
    "-  <font color='red'>E.T. the Extra-Terrestrial</font>\n",
    "-  <font color='red'>The Avengers</font>\n",
    "-  <font color='red'>The Dark Knight</font>\n",
    "-  <font color='red'>Titanic</font>"
   ]
  },
  {
   "cell_type": "markdown",
   "metadata": {},
   "source": [
    "**Subtask 3.3: Find IMDb Top 250**\n",
    "\n",
    "Create a new dataframe `IMDb_Top_250` and store the top 250 movies with the highest IMDb Rating (corresponding to the column: `imdb_score`). Also make sure that for all of these movies, the `num_voted_users` is greater than 25,000. \n",
    "\n",
    "Also add a `Rank` column containing the values 1 to 250 indicating the ranks of the corresponding films."
   ]
  },
  {
   "cell_type": "code",
   "execution_count": 16,
   "metadata": {},
   "outputs": [
    {
     "data": {
      "image/png": "[encoded data removed]",
      "text/plain": [
       "<Figure size 640x480 with 1 Axes>"
      ]
     },
     "metadata": {},
     "output_type": "display_data"
    }
   ],
   "source": [
    "IMDb_Top_250=movies.sort_values(by='imdb_score',ascending=False)\n",
    "IMDb_Top_250 = IMDb_Top_250.loc[IMDb_Top_250.num_voted_users > 25000]\n",
    "IMDb_Top_250 = IMDb_Top_250.iloc[:250, ]\n",
    "IMDb_Top_250['Rank'] = range(1,251)\n",
    "\n",
    "import matplotlib.pyplot as plt\n",
    "plt.hist(IMDb_Top_250['imdb_score'], bins = 5, range = (7.5,10), edgecolor = 'cyan')\n",
    "plt.show()"
   ]
  },
  {
   "cell_type": "markdown",
   "metadata": {},
   "source": [
    "#### <font color='red'>Question 7: Suppose movies are divided into 5 buckets based on the IMDb ratings: </font>\n",
    "-  <font color='red'>7.5 to 8</font>\n",
    "-  <font color='red'>8 to 8.5</font>\n",
    "-  <font color='red'>8.5 to 9</font>\n",
    "-  <font color='red'>9 to 9.5</font>\n",
    "-  <font color='red'>9.5 to 10</font>\n",
    "\n",
    "<font color = 'red'> Which bucket holds the maximum number of movies from *IMDb_Top_250*? </font>"
   ]
  },
  {
   "cell_type": "markdown",
   "metadata": {},
   "source": [
    "**Subtask 3.4: Find the critic-favorite and audience-favorite actors**\n",
    "\n",
    "   1. Create three new dataframes namely, `Meryl_Streep`, `Leo_Caprio`, and `Brad_Pitt` which contain the movies in which the actors: 'Meryl Streep', 'Leonardo DiCaprio', and 'Brad Pitt' are the lead actors. Use only the `actor_1_name` column for extraction. Also, make sure that you use the names 'Meryl Streep', 'Leonardo DiCaprio', and 'Brad Pitt' for the said extraction.\n",
    "   2. Append the rows of all these dataframes and store them in a new dataframe named `Combined`.\n",
    "   3. Group the combined dataframe using the `actor_1_name` column.\n",
    "   4. Find the mean of the `num_critic_for_reviews` and `num_user_for_review` and identify the actors which have the highest mean."
   ]
  },
  {
   "cell_type": "code",
   "execution_count": 18,
   "metadata": {},
   "outputs": [],
   "source": [
    "Meryl_Streep = movies.loc[movies.actor_1_name == 'Meryl Streep']"
   ]
  },
  {
   "cell_type": "code",
   "execution_count": 19,
   "metadata": {},
   "outputs": [],
   "source": [
    "Leo_Caprio = movies.loc[movies.actor_1_name == 'Leonardo DiCaprio']"
   ]
  },
  {
   "cell_type": "code",
   "execution_count": 20,
   "metadata": {},
   "outputs": [],
   "source": [
    "Brad_Pitt = movies.loc[movies.actor_1_name == 'Brad Pitt']"
   ]
  },
  {
   "cell_type": "code",
   "execution_count": 21,
   "metadata": {},
   "outputs": [],
   "source": [
    "# Write your code for combining the three dataframes here\n",
    "Combined = pd.concat([Meryl_Streep, Brad_Pitt, Leo_Caprio])"
   ]
  },
  {
   "cell_type": "code",
   "execution_count": 22,
   "metadata": {},
   "outputs": [],
   "source": [
    "# Write your code for grouping the combined dataframe here\n",
    "Combined_by_segment = Combined.groupby('actor_1_name')"
   ]
  },
  {
   "cell_type": "code",
   "execution_count": 23,
   "metadata": {},
   "outputs": [
    {
     "data": {
      "text/plain": [
       "actor_1_name\n",
       "Brad Pitt            742.352941\n",
       "Leonardo DiCaprio    914.476190\n",
       "Meryl Streep         297.181818\n",
       "Name: num_user_for_reviews, dtype: float64"
      ]
     },
     "execution_count": 23,
     "metadata": {},
     "output_type": "execute_result"
    }
   ],
   "source": [
    "# Write the code for finding the mean of critic reviews and audience reviews here\n",
    "Combined_by_segment['num_user_for_reviews'].mean()"
   ]
  },
  {
   "cell_type": "markdown",
   "metadata": {},
   "source": [
    "#### <font color='red'>Question 8: Which actor is highest rated among the three actors according to the user reviews? </font>\n",
    "-  <font color='red'>Meryl Streep</font>\n",
    "-  <font color='red'>Leonardo DiCaprio</font>\n",
    "-  <font color='red'>Brad Pitt</font>"
   ]
  },
  {
   "cell_type": "markdown",
   "metadata": {},
   "source": [
    "#### <font color='red'>Question 9: Which actor is highest rated among the three actors according to the critics?</font>\n",
    "-  <font color='red'>Meryl Streep</font>\n",
    "-  <font color='red'>Leonardo DiCaprio</font>\n",
    "-  <font color='red'>Brad Pitt</font>"
   ]
  },
  {
   "cell_type": "code",
   "execution_count": null,
   "metadata": {},
   "outputs": [],
   "source": []
  }
 ],
 "metadata": {
  "kernelspec": {
   "display_name": "Python 3 (ipykernel)",
   "language": "python",
   "name": "python3"
  },
  "language_info": {
   "codemirror_mode": {
    "name": "ipython",
    "version": 3
   },
   "file_extension": ".py",
   "mimetype": "text/x-python",
   "name": "python",
   "nbconvert_exporter": "python",
   "pygments_lexer": "ipython3",
   "version": "3.11.5"
  }
 },
 "nbformat": 4,
 "nbformat_minor": 2
}
